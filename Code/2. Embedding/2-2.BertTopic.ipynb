{
  "cells": [
    {
      "cell_type": "code",
      "execution_count": 1,
      "metadata": {
        "colab": {
          "base_uri": "https://localhost:8080/"
        },
        "id": "G8zAS6spNLEN",
        "outputId": "852246d2-0eac-44a5-f440-284c52f93711"
      },
      "outputs": [
        {
          "name": "stdout",
          "output_type": "stream",
          "text": [
            "Mounted at /content/drive\n"
          ]
        }
      ],
      "source": [
        "from google.colab import drive\n",
        "drive.mount('/content/drive')"
      ]
    },
    {
      "cell_type": "code",
      "execution_count": null,
      "metadata": {
        "id": "uRF-jvtHNgxy"
      },
      "outputs": [],
      "source": [
        "pip install bertopic"
      ]
    },
    {
      "cell_type": "code",
      "execution_count": 3,
      "metadata": {
        "id": "CkCImyc-Nfzg"
      },
      "outputs": [],
      "source": [
        "import time\n",
        "import pandas as pd\n",
        "import json\n",
        "import matplotlib.pyplot as plt\n",
        "import requests\n",
        "import os\n",
        "from tqdm import tqdm\n",
        "from bertopic import BERTopic\n",
        "import numpy as np"
      ]
    },
    {
      "cell_type": "code",
      "execution_count": 18,
      "metadata": {
        "id": "12P7HIi9zQpq"
      },
      "outputs": [],
      "source": [
        "from sklearn.metrics.pairwise import euclidean_distances"
      ]
    },
    {
      "cell_type": "code",
      "execution_count": 205,
      "metadata": {
        "id": "rsQdnSxvMxAd"
      },
      "outputs": [],
      "source": [
        "def data_processing(origin_df):\n",
        "    # 원본 데이터 전처리\n",
        "    origin_df.drop(['Unnamed: 0'],axis=1,inplace=True)\n",
        "    origin_df = origin_df.drop_duplicates()\n",
        "    origin_df = origin_df.dropna()\n",
        "    origin_df.reset_index(inplace=True,drop=True)\n",
        "\n",
        "    return origin_df"
      ]
    },
    {
      "cell_type": "code",
      "execution_count": 209,
      "metadata": {
        "id": "wBzNp522MHNx"
      },
      "outputs": [],
      "source": [
        "def bertopic_distance(df,origin_df,path):\n",
        "    #### 1. 골든크로스 데이터 BerTopic 적합\n",
        "    documents = df['title']\n",
        "    topic_model = BERTopic(embedding_model=None, verbose=True)\n",
        "    golden_embedding_df = df.iloc[:,6:].to_numpy()\n",
        "    topics, probabilities = topic_model.fit_transform(documents, golden_embedding_df)\n",
        "\n",
        "    #### 2. 토픽별로 중심점으로부터 거리 계산 후 중심점으로부터 가까운 순서대로 정렬\n",
        "    df['topic'] = topics #BerTopic 결과 저장\n",
        "    df = df[df['topic'] != -1] # Outlier 제거\n",
        "    df['distance_to_center'] = np.nan  # 새로운 컬럼 추가\n",
        "    df['topic_name'] = np.nan  # 새로운 컬럼 추가\n",
        "    topic_name_list = topic_model.generate_topic_labels(nr_words=4)[1:]\n",
        "\n",
        "    # 각 토픽별로 처리\n",
        "    for topic in sorted(list(df['topic'].unique())):\n",
        "        # 특정 토픽에 속하는 데이터 프레임\n",
        "        topic_df = df[df['topic'] == topic]\n",
        "        # 필요한 열만 추출\n",
        "        topic_embedding_df = topic_df.iloc[:, 6:-3]\n",
        "        # 행렬로 변환\n",
        "        topic_matrix = topic_embedding_df.to_numpy()\n",
        "        # 중심 벡터\n",
        "        center_vector = topic_model.topic_embeddings_[topic].reshape(1, -1)\n",
        "        # 유클리드 거리 계산\n",
        "        distances = euclidean_distances(topic_matrix, center_vector).flatten()\n",
        "        # 거리 값을 원본 데이터프레임에 추가\n",
        "        df.loc[df['topic'] == topic, 'distance_to_center'] = distances\n",
        "        df.loc[df['topic'] == topic, 'topic_name'] = topic_name_list[topic]\n",
        "\n",
        "    # 정렬된 데이터프레임 생성 (거리 기준으로)\n",
        "    golden_df_center = df.sort_values(by=['topic', 'distance_to_center'])\n",
        "\n",
        "    #### 3. 임베딩값들을 지우고, 컬럼 정렬\n",
        "    final_df = golden_df_center.iloc[:,:6]\n",
        "    final_df['topic'] =  golden_df_center['topic']\n",
        "    final_df['distance_to_center'] = golden_df_center['distance_to_center']\n",
        "    final_df['topic_name'] = golden_df_center['topic_name']\n",
        "    final_df['origin_title'] = origin_df.loc[final_df.index,:]['title']\n",
        "\n",
        "    final_df = final_df[['topic','topic_name','distance_to_center','origin_title','content','link','date','TargetDate','CrossType','title']]\n",
        "    final_df.reset_index(drop=True,inplace=True)\n",
        "\n",
        "    final_df.to_excel(path,index=False)\n",
        "\n",
        "    return final_df, topic_model"
      ]
    },
    {
      "cell_type": "code",
      "execution_count": 210,
      "metadata": {
        "id": "zci4SkozMOZQ"
      },
      "outputs": [],
      "source": [
        "def bertopic_summary(final_df,topic_model):\n",
        "    #### 4. Topic별 count, topic_name, 대표 단어, 대표 title\n",
        "    topic_summary = pd.DataFrame()\n",
        "    for idx, topic in enumerate(sorted(list(final_df['topic'].unique()))):\n",
        "        topic_df = final_df[final_df['topic']==topic]\n",
        "        topic_summary.loc[idx,'topic'] = int(topic)\n",
        "        topic_summary.loc[idx,'topic_name'] = topic_model.generate_topic_labels(nr_words=4)[1:][topic]\n",
        "        topic_summary.loc[idx,'count'] = int(len(topic_df))\n",
        "        topic_summary.loc[idx,'Representation_title'] = str(list(topic_df['origin_title'])[:3])\n",
        "\n",
        "    return topic_summary"
      ]
    },
    {
      "cell_type": "code",
      "execution_count": 211,
      "metadata": {
        "id": "RoWRfFKlMcxd"
      },
      "outputs": [],
      "source": [
        "def topic_per_10(final_df,path):\n",
        "    #### 5. 요약을 위해서, 각 토픽별로 거리가 가까운 순서대로 10개의 기사를 추출할 예정임\n",
        "    # 5-1. 각 토픽 내 뉴스 기사의 개수가 전체 토픽의 뉴스 기사 개수의 중위수보다 클 경우의 토픽만 채택\n",
        "    # 각 토픽별 개수 계산\n",
        "    topic_counts = final_df['topic'].value_counts()\n",
        "    # 토픽별 개수의 중위수 계산\n",
        "    median_count = topic_counts.median()\n",
        "    # 중위수보다 높은 토픽들 추출\n",
        "    median_topic = topic_counts[topic_counts>median_count].index\n",
        "\n",
        "    # 5-2. 각 토픽별로 거리가 가까운 순서대로 10개의 기사를 추출할 예정임\n",
        "    topic_per_10 = pd.DataFrame()\n",
        "    for topic in median_topic:\n",
        "        topic_df = final_df[final_df['topic']==topic]\n",
        "        topic_df.sort_values(by=['distance_to_center'],inplace=True)\n",
        "        topic_per_10 = pd.concat([topic_per_10,topic_df.iloc[:10,:]])\n",
        "\n",
        "    topic_per_10.to_excel(path,index=False)\n",
        "\n",
        "    return topic_per_10"
      ]
    },
    {
      "cell_type": "code",
      "execution_count": 212,
      "metadata": {
        "id": "SJIGsmvQNLse"
      },
      "outputs": [],
      "source": [
        "# 골든크로스 데이터프레임, 원본 데이터(원본 제목 용도) 가져오기\n",
        "golden_df = pd.read_csv('/content/drive/MyDrive/Miraeasset/data//embedded_news_df_삼성전자_golden_2023-02-16.csv')\n",
        "golden_origin_title = pd.read_csv('/content/drive/MyDrive/Miraeasset/data/news_df_삼성전자_golden_2023-02-16.csv')\n",
        "golden_origin_title = data_processing(golden_origin_title)\n",
        "\n",
        "# 반도체 섹터 데이터프레임 가져오기\n",
        "news_df = pd.read_csv('/content/drive/MyDrive/Miraeasset/data/embedded_news_df_반도체_2023-02-16.csv')"
      ]
    },
    {
      "cell_type": "code",
      "execution_count": 213,
      "metadata": {
        "colab": {
          "base_uri": "https://localhost:8080/"
        },
        "id": "7O1Aw6PkL5Cr",
        "outputId": "e9aefe58-1cd8-43ca-802e-baa108a95eff"
      },
      "outputs": [
        {
          "name": "stderr",
          "output_type": "stream",
          "text": [
            "2024-07-27 08:39:27,430 - BERTopic - Dimensionality - Fitting the dimensionality reduction algorithm\n",
            "2024-07-27 08:39:34,269 - BERTopic - Dimensionality - Completed ✓\n",
            "2024-07-27 08:39:34,272 - BERTopic - Cluster - Start clustering the reduced embeddings\n",
            "2024-07-27 08:39:34,322 - BERTopic - Cluster - Completed ✓\n",
            "2024-07-27 08:39:34,328 - BERTopic - Representation - Extracting topics from clusters using representation models.\n",
            "2024-07-27 08:39:34,369 - BERTopic - Representation - Completed ✓\n"
          ]
        }
      ],
      "source": [
        "path = '/content/drive/MyDrive/Miraeasset/data/embedded_news_df_삼성전자_golden_2023-02-16_BERTopic.xlsx'\n",
        "top10_path = '/content/drive/MyDrive/Miraeasset/data/embedded_news_df_삼성전자_golden_2023-02-16_BERTopic_10.xlsx'\n",
        "final_df, topic_model = bertopic_distance(golden_df, golden_origin_title,path)\n",
        "topic_summary = bertopic_summary(final_df,topic_model)\n",
        "topic_per_10 = topic_per_10(final_df,top10_path)"
      ]
    }
  ],
  "metadata": {
    "colab": {
      "provenance": []
    },
    "kernelspec": {
      "display_name": "Python 3",
      "name": "python3"
    },
    "language_info": {
      "name": "python"
    }
  },
  "nbformat": 4,
  "nbformat_minor": 0
}
